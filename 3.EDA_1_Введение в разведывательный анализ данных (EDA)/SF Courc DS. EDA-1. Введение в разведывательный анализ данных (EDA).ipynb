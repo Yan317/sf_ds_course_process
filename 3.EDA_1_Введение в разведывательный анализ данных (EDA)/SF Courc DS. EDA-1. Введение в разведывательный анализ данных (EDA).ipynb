{
 "cells": [
  {
   "attachments": {},
   "cell_type": "markdown",
   "metadata": {},
   "source": [
    "Курс: Data Science"
   ]
  },
  {
   "attachments": {},
   "cell_type": "markdown",
   "metadata": {},
   "source": [
    "### <center>EDA-1. Введение в разведывательный анализ данных. Алгоритмы и методы EDA"
   ]
  },
  {
   "cell_type": "code",
   "execution_count": null,
   "metadata": {},
   "outputs": [],
   "source": [
    "import pandas as pd"
   ]
  },
  {
   "cell_type": "code",
   "execution_count": null,
   "metadata": {},
   "outputs": [],
   "source": []
  }
 ],
 "metadata": {
  "kernelspec": {
   "display_name": "Python 3",
   "language": "python",
   "name": "python3"
  },
  "language_info": {
   "name": "python",
   "version": "3.10.5"
  },
  "orig_nbformat": 4,
  "vscode": {
   "interpreter": {
    "hash": "c75a79e667ba465de4006372fd6d3e44e2ada8205613ca7a67eb0cf34f489432"
   }
  }
 },
 "nbformat": 4,
 "nbformat_minor": 2
}
